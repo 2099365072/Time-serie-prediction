{
 "cells": [
  {
   "cell_type": "code",
   "execution_count": 6,
   "metadata": {
    "ExecuteTime": {
     "end_time": "2020-06-08T08:28:03.634750Z",
     "start_time": "2020-06-08T08:10:58.049355Z"
    }
   },
   "outputs": [
    {
     "name": "stderr",
     "output_type": "stream",
     "text": [
      "E:\\aconda\\aconda\\lib\\site-packages\\ipykernel_launcher.py:17: DeprecationWarning: time.clock has been deprecated in Python 3.3 and will be removed from Python 3.8: use time.perf_counter or time.process_time instead\n"
     ]
    },
    {
     "name": "stdout",
     "output_type": "stream",
     "text": [
      "1) Test RMSE:0.584\n",
      "2) Test RMSE:0.201\n",
      "3) Test RMSE:1.318\n",
      "4) Test RMSE:0.187\n",
      "5) Test RMSE:0.193\n",
      "           rmse\n",
      "count  5.000000\n",
      "mean   0.496729\n",
      "std    0.489442\n",
      "min    0.186804\n",
      "25%    0.192951\n",
      "50%    0.201467\n",
      "75%    0.584066\n",
      "max    1.318356\n"
     ]
    },
    {
     "data": {
      "image/png": "[encoded data removed]",
      "text/plain": [
       "<Figure size 432x288 with 1 Axes>"
      ]
     },
     "metadata": {
      "needs_background": "light"
     },
     "output_type": "display_data"
    },
    {
     "name": "stdout",
     "output_type": "stream",
     "text": [
      "Time used: 1025.5571538\n"
     ]
    },
    {
     "name": "stderr",
     "output_type": "stream",
     "text": [
      "E:\\aconda\\aconda\\lib\\site-packages\\ipykernel_launcher.py:150: DeprecationWarning: time.clock has been deprecated in Python 3.3 and will be removed from Python 3.8: use time.perf_counter or time.process_time instead\n"
     ]
    }
   ],
   "source": [
    "# %load 更健壮的LSTM案例.py\n",
    "from pandas import read_csv\n",
    "from pandas import datetime\n",
    "from pandas import concat\n",
    "from pandas import DataFrame\n",
    "from pandas import Series\n",
    "from sklearn.metrics import mean_squared_error\n",
    "from sklearn.preprocessing import MinMaxScaler\n",
    "from keras.models import Sequential\n",
    "from keras.layers import Dense\n",
    "from keras.layers import LSTM\n",
    "from math import sqrt\n",
    "from matplotlib import pyplot\n",
    "import numpy\n",
    "import time\n",
    "import pandas as pd\n",
    "start = time.clock()\n",
    "\n",
    "\n",
    "# 读取时间数据的格式化\n",
    "#def parser(x):\n",
    "    #return datetime.strptime(x, '%Y/%m/%d')\n",
    "\n",
    "\n",
    "# 转换成有监督数据\n",
    "def timeseries_to_supervised(data, lag=1):\n",
    "    df = DataFrame(data)\n",
    "    columns = [df.shift(i) for i in range(1, lag + 1)]  # 数据滑动一格，作为input，df原数据为output\n",
    "    columns.append(df)\n",
    "    df = concat(columns, axis=1)\n",
    "    df.fillna(0, inplace=True)\n",
    "    return df\n",
    "\n",
    "\n",
    "# 转换成差分数据\n",
    "def difference(dataset, interval=1):\n",
    "    diff = list()\n",
    "    for i in range(interval, len(dataset)):\n",
    "        value = dataset[i] - dataset[i - interval]\n",
    "        diff.append(value)\n",
    "    return Series(diff)\n",
    "\n",
    "\n",
    "# 逆差分\n",
    "def inverse_difference(history, yhat, interval=1):  # 历史数据，预测数据，差分间隔\n",
    "    return yhat + history[-interval]\n",
    "\n",
    "\n",
    "# 缩放\n",
    "def scale(train, test):\n",
    "    # 根据训练数据建立缩放器\n",
    "    scaler = MinMaxScaler(feature_range=(-1, 1))\n",
    "    scaler = scaler.fit(train)\n",
    "    # 转换train data\n",
    "    train = train.reshape(train.shape[0], train.shape[1])\n",
    "    train_scaled = scaler.transform(train)\n",
    "    # 转换test data\n",
    "    test = test.reshape(test.shape[0], test.shape[1])\n",
    "    test_scaled = scaler.transform(test)\n",
    "    return scaler, train_scaled, test_scaled\n",
    "\n",
    "\n",
    "# 逆缩放\n",
    "def invert_scale(scaler, X, value):\n",
    "    new_row = [x for x in X] + [value]\n",
    "    array = numpy.array(new_row)\n",
    "    array = array.reshape(1, len(array))\n",
    "    inverted = scaler.inverse_transform(array)\n",
    "    return inverted[0, -1]\n",
    "\n",
    "# fit LSTM来训练数据\n",
    "def fit_lstm(train, batch_size, nb_epoch, neurons):\n",
    "    X, y = train[:, 0:-1], train[:, -1]\n",
    "    X = X.reshape(X.shape[0], 1, X.shape[1])\n",
    "    model = Sequential()\n",
    "    # 添加LSTM层\n",
    "    model.add(LSTM(neurons, batch_input_shape=(batch_size, X.shape[1], X.shape[2]), stateful=True))\n",
    "    model.add(Dense(1))  # 输出层1个node\n",
    "    # 编译，损失函数mse+优化算法adam\n",
    "    model.compile(loss='mean_squared_error', optimizer='adam')\n",
    "    for i in range(nb_epoch):\n",
    "        # 按照batch_size，一次读取batch_size个数据\n",
    "        model.fit(X, y, epochs=1, batch_size=batch_size, verbose=0, shuffle=False)\n",
    "        model.reset_states()\n",
    "        #print(\"当前计算次数：\"+str(i))\n",
    "    return model\n",
    "\n",
    "\n",
    "# 1步长预测\n",
    "def forcast_lstm(model, batch_size, X):\n",
    "    X = X.reshape(1, 1, len(X))\n",
    "    yhat = model.predict(X, batch_size=batch_size)\n",
    "    return yhat[0, 0]\n",
    "\n",
    "\n",
    "# 加载数据\n",
    "series = pd.read_excel(r'C:\\Users\\stu\\Desktop\\RDATA.xlsx')\n",
    "# 让数据变成稳定的\n",
    "raw_values = (series.values)[0:2000,3]\n",
    "diff_values = difference(raw_values, 1)#转换成差分数据\n",
    "\n",
    "# 把稳定的数据变成有监督数据\n",
    "supervised = timeseries_to_supervised(diff_values, 1)\n",
    "supervised_values = supervised.values\n",
    "\n",
    "# 数据拆分：训练数据、测试数据，前24行是训练集，后12行是测试集\n",
    "train, test = supervised_values[0:-50], supervised_values[-50:]\n",
    "\n",
    "# 数据缩放\n",
    "scaler, train_scaled, test_scaled = scale(train, test)\n",
    "\n",
    "\n",
    "\n",
    "#重复实验   \n",
    "repeats = 5\n",
    "\n",
    "\n",
    "error_scores = list()\n",
    "for r in range(repeats):\n",
    "    # fit 模型\n",
    "    lstm_model = fit_lstm(train_scaled, 1, 100, 40)  # 训练数据，batch_size，epoche次数, 神经元个数\n",
    "    # 预测\n",
    "    train_reshaped = train_scaled[:, 0].reshape(len(train_scaled), 1, 1)#训练数据集转换为可输入的矩阵\n",
    "    lstm_model.predict(train_reshaped, batch_size=1)#用模型对训练数据矩阵进行预测\n",
    "    # 测试数据的前向验证，实验发现，如果训练次数很少的话，模型回简单的把数据后移，以昨天的数据作为今天的预测值，当训练次数足够多的时候\n",
    "    # 才会体现出来训练结果\n",
    "    predictions = list()\n",
    "    for i in range(len(test_scaled)):\n",
    "        # 1步长预测\n",
    "        X, y = test_scaled[i, 0:-1], test_scaled[i, -1]\n",
    "        yhat = forcast_lstm(lstm_model, 1, X)\n",
    "        # 逆缩放\n",
    "        yhat = invert_scale(scaler, X, yhat)\n",
    "        # 逆差分\n",
    "        yhat = inverse_difference(raw_values, yhat, len(test_scaled) + 1 - i)\n",
    "        predictions.append(yhat)\n",
    "        expected = raw_values[len(train) + i + 1]\n",
    "        #print('Moth=%d, Predicted=%f, Expected=%f' % (i + 1, yhat, expected))\n",
    "    # 性能报告\n",
    "    rmse = sqrt(mean_squared_error(raw_values[-50:], predictions))\n",
    "    print('%d) Test RMSE:%.3f' %(r+1,rmse))\n",
    "    error_scores.append(rmse)\n",
    "\n",
    "#统计信息   \n",
    "results = DataFrame()\n",
    "results['rmse'] = error_scores\n",
    "print(results.describe())\n",
    "results.boxplot()\n",
    "pyplot.show()\n",
    "elapsed = (time.clock() - start)\n",
    "print(\"Time used:\",elapsed)"
   ]
  },
  {
   "cell_type": "code",
   "execution_count": 7,
   "metadata": {
    "ExecuteTime": {
     "end_time": "2020-06-08T08:30:00.713816Z",
     "start_time": "2020-06-08T08:30:00.703844Z"
    }
   },
   "outputs": [
    {
     "name": "stdout",
     "output_type": "stream",
     "text": [
      "MSE =  0.03723002371830148\n",
      "RMSE =  0.19295083238561445\n",
      "MAE =  0.14502160796499425\n"
     ]
    }
   ],
   "source": [
    "zs=raw_values[-50:]\n",
    "yuce=predictions\n",
    "error = []\n",
    "for i in range(len(zs)):\n",
    "    error.append(zs[i] -yuce[i])\n",
    "#print(\"Errors: \", error)\n",
    "#print(error)\n",
    "squaredError = []\n",
    "absError = []\n",
    "for val in error:    \n",
    "    squaredError.append(val * val)#target-prediction之差平方     \n",
    "    absError.append(abs(val))#误差绝对值  \n",
    "   # print(\"Square Error: \", squaredError)\n",
    "    #print(\"Absolute Value of Error: \", absError)    \n",
    "print(\"MSE = \", sum(squaredError) / len(squaredError))#均方误差MSE    \n",
    "from math import sqrt\n",
    "print(\"RMSE = \", sqrt(sum(squaredError) / len(squaredError)))#均方根误差RMSE\n",
    "print(\"MAE = \", sum(absError) / len(absError))#平均绝对误差MAE"
   ]
  },
  {
   "cell_type": "code",
   "execution_count": 8,
   "metadata": {
    "ExecuteTime": {
     "end_time": "2020-06-08T08:30:28.554432Z",
     "start_time": "2020-06-08T08:30:28.496560Z"
    }
   },
   "outputs": [
    {
     "name": "stdout",
     "output_type": "stream",
     "text": [
      "['Sheet1']\n"
     ]
    }
   ],
   "source": [
    "import openpyxl as op\n",
    "wb=op.load_workbook(r'C:\\Users\\stu\\Desktop\\lstm.xlsx')\n",
    "print(wb.sheetnames)\n",
    "ws=wb['Sheet1']\n",
    "#yuce=yuce.tolist()\n",
    "#escape(yuce).encode('utf-8')\n",
    "for index,rw in enumerate(yuce):        \n",
    "        ws.cell(row = index+1, column =4).value = rw\n",
    "wb.save(r'C:\\Users\\stu\\Desktop\\lstm.xlsx')"
   ]
  },
  {
   "cell_type": "code",
   "execution_count": 8,
   "metadata": {
    "ExecuteTime": {
     "end_time": "2020-06-08T06:49:48.750736Z",
     "start_time": "2020-06-08T06:49:48.745748Z"
    }
   },
   "outputs": [
    {
     "data": {
      "text/plain": [
       "113.047546993924"
      ]
     },
     "execution_count": 8,
     "metadata": {},
     "output_type": "execute_result"
    }
   ],
   "source": [
    "10.632382**2\n",
    "\n"
   ]
  },
  {
   "cell_type": "code",
   "execution_count": 9,
   "metadata": {
    "ExecuteTime": {
     "end_time": "2020-06-14T09:14:21.111650Z",
     "start_time": "2020-06-14T09:14:20.946582Z"
    }
   },
   "outputs": [
    {
     "name": "stdout",
     "output_type": "stream",
     "text": [
      "MSE =  0.016662275354200572\n",
      "RMSE =  0.1290824362731064\n",
      "MAE =  0.10632247630977046\n"
     ]
    }
   ],
   "source": [
    "import pandas as pd\n",
    "se1 = pd.read_excel(r'C:\\Users\\stu\\Desktop\\RDATA.xlsx').values\n",
    "se2 = pd.read_excel(r'C:\\Users\\stu\\Desktop\\result.xlsx',sheet_name='Sheet1').values\n",
    "zs=se1[:,3][-50:]\n",
    "yuce=se2[:,3]\n",
    "error = []\n",
    "for i in range(len(zs)):\n",
    "    error.append(zs[i] -yuce[i])\n",
    "#print(\"Errors: \", error)\n",
    "#print(error)\n",
    "squaredError = []\n",
    "absError = []\n",
    "for val in error:    \n",
    "    squaredError.append(val * val)#target-prediction之差平方     \n",
    "    absError.append(abs(val))#误差绝对值  \n",
    "   # print(\"Square Error: \", squaredError)\n",
    "    #print(\"Absolute Value of Error: \", absError)    \n",
    "print(\"MSE = \", sum(squaredError) / len(squaredError))#均方误差MSE    \n",
    "from math import sqrt\n",
    "print(\"RMSE = \", sqrt(sum(squaredError) / len(squaredError)))#均方根误差RMSE\n",
    "print(\"MAE = \", sum(absError) / len(absError))#平均绝对误差MAE"
   ]
  },
  {
   "cell_type": "code",
   "execution_count": null,
   "metadata": {},
   "outputs": [],
   "source": []
  }
 ],
 "metadata": {
  "kernelspec": {
   "display_name": "Python 3",
   "language": "python",
   "name": "python3"
  },
  "language_info": {
   "codemirror_mode": {
    "name": "ipython",
    "version": 3
   },
   "file_extension": ".py",
   "mimetype": "text/x-python",
   "name": "python",
   "nbconvert_exporter": "python",
   "pygments_lexer": "ipython3",
   "version": "3.7.4"
  }
 },
 "nbformat": 4,
 "nbformat_minor": 2
}
