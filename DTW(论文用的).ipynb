{
 "cells": [
  {
   "cell_type": "code",
   "execution_count": 2,
   "metadata": {
    "ExecuteTime": {
     "end_time": "2020-07-03T13:41:41.967222Z",
     "start_time": "2020-07-03T13:41:41.956251Z"
    }
   },
   "outputs": [],
   "source": [
    "def dtw_distance(ts_a, ts_b, d=lambda x,y: abs(x-y), mww=10000):\n",
    "    # Create cost matrix via broadcasting with large int\n",
    "    ts_a, ts_b = np.array(ts_a), np.array(ts_b)\n",
    "    M, N = len(ts_a), len(ts_b)\n",
    "    cost = np.ones((M, N))\n",
    "\n",
    "    # Initialize the first row and column\n",
    "    cost[0, 0] = d(ts_a[0], ts_b[0])\n",
    "    for i in range(1, M):\n",
    "        cost[i, 0] = cost[i-1, 0] + d(ts_a[i], ts_b[0])\n",
    "\n",
    "    for j in range(1, N):\n",
    "        cost[0, j] = cost[0, j-1] + d(ts_a[0], ts_b[j])\n",
    "\n",
    "    # Populate rest of cost matrix within window\n",
    "    for i in range(1, M):\n",
    "        for j in range(max(1, i - mww), min(N, i + mww)):\n",
    "            choices = cost[i-1, j-1], cost[i, j-1], cost[i-1, j]\n",
    "            cost[i, j] = min(choices) + d(ts_a[i], ts_b[j])\n",
    "\n",
    "    # Return DTW distance given window \n",
    "    return cost[-1, -1]"
   ]
  },
  {
   "cell_type": "code",
   "execution_count": 3,
   "metadata": {
    "ExecuteTime": {
     "end_time": "2020-07-03T13:41:43.225482Z",
     "start_time": "2020-07-03T13:41:43.211521Z"
    }
   },
   "outputs": [
    {
     "data": {
      "text/plain": [
       "14.0"
      ]
     },
     "execution_count": 3,
     "metadata": {},
     "output_type": "execute_result"
    }
   ],
   "source": [
    "import numpy as np\n",
    "a=[1,4,3,5,6,7,3,8,3,5,6,7]\n",
    "b=[4,5,6,3,7,8]\n",
    "dtw_distance(a,b, d=lambda x,y: abs(x-y), mww=100000)"
   ]
  },
  {
   "cell_type": "code",
   "execution_count": null,
   "metadata": {},
   "outputs": [],
   "source": []
  }
 ],
 "metadata": {
  "kernelspec": {
   "display_name": "Python 3 (ipykernel)",
   "language": "python",
   "name": "python3"
  },
  "language_info": {
   "codemirror_mode": {
    "name": "ipython",
    "version": 3
   },
   "file_extension": ".py",
   "mimetype": "text/x-python",
   "name": "python",
   "nbconvert_exporter": "python",
   "pygments_lexer": "ipython3",
   "version": "3.9.8"
  }
 },
 "nbformat": 4,
 "nbformat_minor": 4
}
